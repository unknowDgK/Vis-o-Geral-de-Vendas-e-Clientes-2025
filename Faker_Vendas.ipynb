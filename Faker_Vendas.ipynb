{
  "nbformat": 4,
  "nbformat_minor": 0,
  "metadata": {
    "colab": {
      "provenance": []
    },
    "kernelspec": {
      "name": "python3",
      "display_name": "Python 3"
    },
    "language_info": {
      "name": "python"
    }
  },
  "cells": [
    {
      "cell_type": "code",
      "execution_count": null,
      "metadata": {
        "colab": {
          "base_uri": "https://localhost:8080/"
        },
        "id": "-ygpmHvZaqrn",
        "outputId": "4b9c38bc-6604-4a0e-d40c-7a559ada5423"
      },
      "outputs": [
        {
          "output_type": "stream",
          "name": "stdout",
          "text": [
            "Collecting faker\n",
            "  Downloading faker-37.3.0-py3-none-any.whl.metadata (15 kB)\n",
            "Requirement already satisfied: tzdata in /usr/local/lib/python3.11/dist-packages (from faker) (2025.2)\n",
            "Downloading faker-37.3.0-py3-none-any.whl (1.9 MB)\n",
            "\u001b[2K   \u001b[90m━━━━━━━━━━━━━━━━━━━━━━━━━━━━━━━━━━━━━━━━\u001b[0m \u001b[32m1.9/1.9 MB\u001b[0m \u001b[31m18.2 MB/s\u001b[0m eta \u001b[36m0:00:00\u001b[0m\n",
            "\u001b[?25hInstalling collected packages: faker\n",
            "Successfully installed faker-37.3.0\n"
          ]
        }
      ],
      "source": [
        "!pip install faker"
      ]
    },
    {
      "cell_type": "code",
      "source": [
        "import pandas as pd\n",
        "from faker import Faker\n",
        "import random\n",
        "import numpy as np\n",
        "\n",
        "# Inicializa o Faker\n",
        "fake = Faker()\n",
        "\n",
        "# Função para gerar dados para 4 tabelas\n",
        "\n",
        "def gerar_dados():\n",
        "    # Tabela de Clientes\n",
        "    clientes = []\n",
        "    for i in range(100):\n",
        "        clientes.append({\n",
        "            'ID_Cliente': i + 1,\n",
        "            'Nome_Cliente': fake.name(),\n",
        "            'Segmento': random.choice(['Retail', 'Corporate', 'Government']),\n",
        "            'Região': random.choice(['Norte', 'Sul', 'Leste', 'Oeste'])\n",
        "        })\n",
        "    df_clientes = pd.DataFrame(clientes)\n",
        "\n",
        "    # Tabela de Produtos\n",
        "    produtos = []\n",
        "    for i in range(50):\n",
        "        produtos.append({\n",
        "            'ID_Produto': i + 1,\n",
        "            'Nome_Produto': fake.word().capitalize(),\n",
        "            'Categoria': random.choice(['Tecnologia', 'Alimentos', 'Vestuário', 'Saúde']),\n",
        "            'Preço': round(random.uniform(10, 1000), 2)\n",
        "        })\n",
        "    df_produtos = pd.DataFrame(produtos)\n",
        "\n",
        "    # Tabela de Metas\n",
        "    metas = []\n",
        "    for i in range(20):\n",
        "        metas.append({\n",
        "            'ID_Meta': i + 1,\n",
        "            'Vendedor': fake.name(),\n",
        "            'Região': random.choice(['Norte', 'Sul', 'Leste', 'Oeste']),\n",
        "            'Meta_Mensal': round(random.uniform(5000, 50000), 2)\n",
        "        })\n",
        "    df_metas = pd.DataFrame(metas)\n",
        "\n",
        "    # Tabela de Vendas\n",
        "    vendas = []\n",
        "    for i in range(500):\n",
        "        vendas.append({\n",
        "            'ID_Venda': i + 1,\n",
        "            'Data_Venda': fake.date_this_year(),\n",
        "            'ID_Cliente': random.choice(df_clientes['ID_Cliente']),\n",
        "            'ID_Produto': random.choice(df_produtos['ID_Produto']),\n",
        "            'Quantidade': random.randint(1, 10),\n",
        "            'Valor_Total': round(random.uniform(20, 1000), 2),\n",
        "            'Região': random.choice(['Norte', 'Sul', 'Leste', 'Oeste'])\n",
        "        })\n",
        "    df_vendas = pd.DataFrame(vendas)\n",
        "\n",
        "    return df_vendas, df_clientes, df_produtos, df_metas\n",
        "\n",
        "# Gerando os dados\n",
        "df_vendas, df_clientes, df_produtos, df_metas = gerar_dados()\n",
        "\n",
        "# Salvando os dados em arquivos CSV\n",
        "df_vendas.to_csv('vendas.csv', index=False)\n",
        "df_clientes.to_csv('clientes.csv', index=False)\n",
        "df_produtos.to_csv('produtos.csv', index=False)\n",
        "df_metas.to_csv('metas.csv', index=False)\n",
        "\n",
        "print(\"Dados gerados e salvos com sucesso!\")\n"
      ],
      "metadata": {
        "id": "3vE-ev4ma0ZU",
        "outputId": "2a86810a-fdda-4f95-acff-7834dbf65875",
        "colab": {
          "base_uri": "https://localhost:8080/"
        }
      },
      "execution_count": null,
      "outputs": [
        {
          "output_type": "stream",
          "name": "stdout",
          "text": [
            "Dados gerados e salvos com sucesso!\n"
          ]
        }
      ]
    }
  ]
}